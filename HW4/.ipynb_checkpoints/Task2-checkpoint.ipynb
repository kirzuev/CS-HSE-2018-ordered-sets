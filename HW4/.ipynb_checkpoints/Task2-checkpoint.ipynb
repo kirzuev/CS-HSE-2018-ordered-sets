{
 "cells": [
  {
   "cell_type": "code",
   "execution_count": 1,
   "metadata": {},
   "outputs": [],
   "source": [
    "def pattern(obj):\n",
    "    return [(x,x) for x in obj]\n",
    "\n",
    "def intersect(obj_1, obj_2):\n",
    "    return [(min(x1,x2), max(y1,y2)) for ((x1,y1), (x2,y2)) in zip(obj_1[1], obj_2[1])]\n",
    "\n",
    "def printObject(obj):\n",
    "    print('g_', obj[0], ': ', obj[1], sep='')\n",
    "\n",
    "def printObjects(objs):\n",
    "    [printObject(x) for x in objs]\n",
    "\n",
    "def subset(obj_1, obj_2):\n",
    "    return intersect(obj_1, obj_2) == obj_2[1]\n",
    "\n",
    "def check_subset(obj_1, obj_2):\n",
    "    if subset(obj_1, obj_2):\n",
    "        print('g_', obj_1[0], ' is a subset of g_', obj_2[0], sep='')\n",
    "        return True\n",
    "    else:\n",
    "        print('g_', obj_1[0], ' is not a subset of g_', obj_2[0], sep='')\n",
    "        return False\n",
    "\n",
    "def classify(obj, hp, hm):\n",
    "    printObject(obj)\n",
    "\n",
    "    res_p = check_subset(obj, hp)\n",
    "    res_m = check_subset(obj, hm)\n",
    "\n",
    "    print('result: ', end='')\n",
    "\n",
    "    if res_p:\n",
    "        if res_m:\n",
    "            print('contradictory')\n",
    "        else:\n",
    "            print('+')\n",
    "    else:\n",
    "        if res_m:\n",
    "            print('-')\n",
    "        else:\n",
    "            print('undefined')\n",
    "    print()"
   ]
  },
  {
   "cell_type": "code",
   "execution_count": 2,
   "metadata": {},
   "outputs": [
    {
     "name": "stdout",
     "output_type": "stream",
     "text": [
      "+:\n",
      "g_1`: [(2, 2), (8, 8), (3, 3), (5, 5), (1, 1), (8, 8), (13, 13), (0, 0), (6, 6), (6, 6), (10, 10), (8, 8), (0, 0), (8, 8), (0, 0), (8, 8)]\n",
      "g_2`: [(6, 6), (11, 11), (6, 6), (8, 8), (5, 5), (6, 6), (11, 11), (5, 5), (6, 6), (11, 11), (9, 9), (4, 4), (3, 3), (12, 12), (2, 2), (4, 4)]\n",
      "g_3`: [(1, 1), (0, 0), (2, 2), (1, 1), (0, 0), (7, 7), (14, 14), (1, 1), (4, 4), (7, 7), (10, 10), (8, 8), (0, 0), (8, 8), (0, 0), (8, 8)]\n",
      "g_4`: [(2, 2), (7, 7), (4, 4), (4, 4), (1, 1), (8, 8), (15, 15), (1, 1), (5, 5), (6, 6), (11, 11), (8, 8), (0, 0), (8, 8), (0, 0), (8, 8)]\n",
      "\n",
      "-:\n",
      "g_5`: [(6, 6), (9, 9), (8, 8), (8, 8), (8, 8), (8, 8), (7, 7), (3, 3), (5, 5), (7, 7), (8, 8), (8, 8), (6, 6), (8, 8), (4, 4), (5, 5)]\n",
      "g_6`: [(5, 5), (10, 10), (7, 7), (8, 8), (5, 5), (8, 8), (3, 3), (3, 3), (1, 1), (7, 7), (1, 1), (8, 8), (5, 5), (9, 9), (5, 5), (8, 8)]\n",
      "g_7`: [(3, 3), (7, 7), (5, 5), (5, 5), (3, 3), (11, 11), (3, 3), (2, 2), (2, 2), (8, 8), (2, 2), (9, 9), (3, 3), (4, 4), (2, 2), (8, 8)]\n",
      "\n",
      "t:\n",
      "g_8`: [(3, 3), (9, 9), (5, 5), (7, 7), (3, 3), (12, 12), (3, 3), (4, 4), (3, 3), (11, 11), (1, 1), (9, 9), (2, 2), (6, 6), (3, 3), (9, 9)]\n",
      "g_9`: [(3, 3), (8, 8), (5, 5), (5, 5), (1, 1), (6, 6), (6, 6), (3, 3), (1, 1), (6, 6), (0, 0), (8, 8), (2, 2), (6, 6), (1, 1), (7, 7)]\n",
      "g_10`: [(3, 3), (2, 2), (4, 4), (3, 3), (2, 2), (8, 8), (7, 7), (3, 3), (9, 9), (6, 6), (6, 6), (8, 8), (2, 2), (8, 8), (6, 6), (8, 8)]\n",
      "\n"
     ]
    }
   ],
   "source": [
    "g1 = ('1`', pattern([2,8,3,5,1,8,13,0,6,6,10,8,0,8,0,8]))\n",
    "g2 = ('2`', pattern([6,11,6,8,5,6,11,5,6,11,9,4,3,12,2,4]))\n",
    "g3 = ('3`', pattern([1,0,2,1,0,7,14,1,4,7,10,8,0,8,0,8]))\n",
    "g4 = ('4`', pattern([2,7,4,4,1,8,15,1,5,6,11,8,0,8,0,8]))\n",
    "g12 = ('1_2`', intersect(g1,g2))\n",
    "g13 = ('1_3`', intersect(g1,g3))\n",
    "g14 = ('1_4`', intersect(g1,g4))\n",
    "g23 = ('2_3`', intersect(g2,g3))\n",
    "g24 = ('2_4`', intersect(g2,g4))\n",
    "g34 = ('3_4`', intersect(g3,g4))\n",
    "g123 = ('1_2_3`', intersect(g12,g3))\n",
    "g124 = ('1_2_4`', intersect(g12,g4))\n",
    "g134 = ('1_3_4`', intersect(g13,g4))\n",
    "g234 = ('2_3_4`', intersect(g23,g4))\n",
    "g1234 = ('1_2_3_4`', intersect(g123,g4))\n",
    "\n",
    "g5 = ('5`', pattern([6,9,8,8,8,8,7,3,5,7,8,8,6,8,4,5]))\n",
    "g6 = ('6`', pattern([5,10,7,8,5,8,3,3,1,7,1,8,5,9,5,8]))\n",
    "g7 = ('7`', pattern([3,7,5,5,3,11,3,2,2,8,2,9,3,4,2,8]))\n",
    "g56 = ('5_6`', intersect(g5,g6))\n",
    "g57 = ('5_7`', intersect(g5,g7))\n",
    "g67 = ('6_7`', intersect(g6,g7))\n",
    "g567 = ('5_6_7`', intersect(g56,g7))\n",
    "\n",
    "g8 = ('8`', pattern([3,9,5,7,3,12,3,4,3,11,1,9,2,6,3,9]))\n",
    "g9 = ('9`', pattern([3,8,5,5,1,6,6,3,1,6,0,8,2,6,1,7]))\n",
    "g10 = ('10`', pattern([3,2,4,3,2,8,7,3,9,6,6,8,2,8,6,8]))\n",
    "\n",
    "ps = [g1,g2,g3,g4]\n",
    "ms = [g5,g6,g7]\n",
    "ts = [g8,g9,g10]\n",
    "\n",
    "print('+:')\n",
    "printObjects(ps)\n",
    "print()\n",
    "\n",
    "print('-:')\n",
    "printObjects(ms)\n",
    "print()\n",
    "\n",
    "print('t:')\n",
    "printObjects(ts)\n",
    "print()"
   ]
  },
  {
   "cell_type": "code",
   "execution_count": 3,
   "metadata": {},
   "outputs": [
    {
     "name": "stdout",
     "output_type": "stream",
     "text": [
      "g_3` is not a subset of g_1_2`\n",
      "g_4` is not a subset of g_1_2`\n",
      "\n",
      "g_2` is not a subset of g_1_3`\n",
      "g_4` is not a subset of g_1_3`\n",
      "\n",
      "g_2` is not a subset of g_1_4`\n",
      "g_3` is not a subset of g_1_4`\n",
      "\n",
      "g_1` is not a subset of g_2_3`\n",
      "g_4` is not a subset of g_2_3`\n",
      "\n",
      "g_1` is not a subset of g_2_4`\n",
      "g_3` is not a subset of g_2_4`\n",
      "\n",
      "g_1` is not a subset of g_3_4`\n",
      "g_2` is not a subset of g_3_4`\n",
      "\n",
      "g_4` is not a subset of g_1_2_3`\n",
      "\n",
      "g_3` is not a subset of g_1_2_4`\n",
      "\n",
      "g_2` is not a subset of g_1_3_4`\n",
      "\n",
      "g_1` is not a subset of g_2_3_4`\n",
      "\n"
     ]
    }
   ],
   "source": [
    "check_subset(g3, g12)\n",
    "check_subset(g4, g12)\n",
    "print()\n",
    "\n",
    "check_subset(g2, g13)\n",
    "check_subset(g4, g13)\n",
    "print()\n",
    "\n",
    "check_subset(g2, g14)\n",
    "check_subset(g3, g14)\n",
    "print()\n",
    "\n",
    "check_subset(g1, g23)\n",
    "check_subset(g4, g23)\n",
    "print()\n",
    "\n",
    "check_subset(g1, g24)\n",
    "check_subset(g3, g24)\n",
    "print()\n",
    "\n",
    "check_subset(g1, g34)\n",
    "check_subset(g2, g34)\n",
    "print()\n",
    "\n",
    "check_subset(g4, g123)\n",
    "print()\n",
    "\n",
    "check_subset(g3, g124)\n",
    "print()\n",
    "\n",
    "check_subset(g2, g134)\n",
    "print()\n",
    "\n",
    "check_subset(g1, g234)\n",
    "print()"
   ]
  },
  {
   "cell_type": "code",
   "execution_count": 4,
   "metadata": {},
   "outputs": [
    {
     "name": "stdout",
     "output_type": "stream",
     "text": [
      "g_5` is not a subset of g_1_2_3_4`\n",
      "g_6` is not a subset of g_1_2_3_4`\n",
      "g_7` is not a subset of g_1_2_3_4`\n",
      "\n",
      "minimal hypothesis H+:\n",
      "g_1_2_3_4`: [(1, 6), (0, 11), (2, 6), (1, 8), (0, 5), (6, 8), (11, 15), (0, 5), (4, 6), (6, 11), (9, 11), (4, 8), (0, 3), (8, 12), (0, 2), (4, 8)]\n",
      "\n"
     ]
    }
   ],
   "source": [
    "[check_subset(g, g1234) for g in ms]\n",
    "print()\n",
    "\n",
    "hp = g1234\n",
    "print('minimal hypothesis H+:')\n",
    "printObject(hp)\n",
    "print()"
   ]
  },
  {
   "cell_type": "code",
   "execution_count": 5,
   "metadata": {},
   "outputs": [
    {
     "name": "stdout",
     "output_type": "stream",
     "text": [
      "g_7` is not a subset of g_5_6`\n",
      "\n",
      "g_6` is not a subset of g_5_7`\n",
      "\n",
      "g_5` is not a subset of g_6_7`\n",
      "\n"
     ]
    }
   ],
   "source": [
    "check_subset(g7, g56)\n",
    "print()\n",
    "\n",
    "check_subset(g6, g57)\n",
    "print()\n",
    "\n",
    "check_subset(g5, g67)\n",
    "print()"
   ]
  },
  {
   "cell_type": "code",
   "execution_count": 6,
   "metadata": {},
   "outputs": [
    {
     "name": "stdout",
     "output_type": "stream",
     "text": [
      "g_1` is not a subset of g_5_6_7`\n",
      "g_2` is not a subset of g_5_6_7`\n",
      "g_3` is not a subset of g_5_6_7`\n",
      "g_4` is not a subset of g_5_6_7`\n",
      "\n",
      "minimal hypothesis H-:\n",
      "g_5_6_7`: [(3, 6), (7, 10), (5, 8), (5, 8), (3, 8), (8, 11), (3, 7), (2, 3), (1, 5), (7, 8), (1, 8), (8, 9), (3, 6), (4, 9), (2, 5), (5, 8)]\n",
      "\n"
     ]
    }
   ],
   "source": [
    "[check_subset(g, g567) for g in ps]\n",
    "print()\n",
    "\n",
    "hm = g567\n",
    "print('minimal hypothesis H-:')\n",
    "printObject(hm)\n",
    "print()"
   ]
  },
  {
   "cell_type": "code",
   "execution_count": 7,
   "metadata": {},
   "outputs": [
    {
     "name": "stdout",
     "output_type": "stream",
     "text": [
      "g_8`: [(3, 3), (9, 9), (5, 5), (7, 7), (3, 3), (12, 12), (3, 3), (4, 4), (3, 3), (11, 11), (1, 1), (9, 9), (2, 2), (6, 6), (3, 3), (9, 9)]\n",
      "g_8` is not a subset of g_1_2_3_4`\n",
      "g_8` is not a subset of g_5_6_7`\n",
      "result: undefined\n",
      "\n",
      "g_9`: [(3, 3), (8, 8), (5, 5), (5, 5), (1, 1), (6, 6), (6, 6), (3, 3), (1, 1), (6, 6), (0, 0), (8, 8), (2, 2), (6, 6), (1, 1), (7, 7)]\n",
      "g_9` is not a subset of g_1_2_3_4`\n",
      "g_9` is not a subset of g_5_6_7`\n",
      "result: undefined\n",
      "\n",
      "g_10`: [(3, 3), (2, 2), (4, 4), (3, 3), (2, 2), (8, 8), (7, 7), (3, 3), (9, 9), (6, 6), (6, 6), (8, 8), (2, 2), (8, 8), (6, 6), (8, 8)]\n",
      "g_10` is not a subset of g_1_2_3_4`\n",
      "g_10` is not a subset of g_5_6_7`\n",
      "result: undefined\n",
      "\n"
     ]
    }
   ],
   "source": [
    "res = [classify(g, hp, hm) for g in ts]"
   ]
  },
  {
   "cell_type": "code",
   "execution_count": null,
   "metadata": {
    "collapsed": true
   },
   "outputs": [],
   "source": []
  }
 ],
 "metadata": {
  "kernelspec": {
   "display_name": "Python 3",
   "language": "python",
   "name": "python3"
  },
  "language_info": {
   "codemirror_mode": {
    "name": "ipython",
    "version": 3
   },
   "file_extension": ".py",
   "mimetype": "text/x-python",
   "name": "python",
   "nbconvert_exporter": "python",
   "pygments_lexer": "ipython3",
   "version": "3.6.3"
  }
 },
 "nbformat": 4,
 "nbformat_minor": 2
}
